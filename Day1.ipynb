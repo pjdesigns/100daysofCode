{
  "nbformat": 4,
  "nbformat_minor": 0,
  "metadata": {
    "colab": {
      "provenance": [],
      "authorship_tag": "ABX9TyNwyL5EDtJedGzwCXs0Iyiq",
      "include_colab_link": true
    },
    "kernelspec": {
      "name": "python3",
      "display_name": "Python 3"
    },
    "language_info": {
      "name": "python"
    }
  },
  "cells": [
    {
      "cell_type": "markdown",
      "metadata": {
        "id": "view-in-github",
        "colab_type": "text"
      },
      "source": [
        "<a href=\"https://colab.research.google.com/github/pjdesigns/100daysofCode/blob/main/Day1.ipynb\" target=\"_parent\"><img src=\"https://colab.research.google.com/assets/colab-badge.svg\" alt=\"Open In Colab\"/></a>"
      ]
    },
    {
      "cell_type": "code",
      "execution_count": 1,
      "metadata": {
        "id": "4WHp48A80AZz"
      },
      "outputs": [],
      "source": [
        "# Importing both pandas and numpy libraries\n",
        "\n",
        "import pandas as pd\n",
        "import numpy as np"
      ]
    },
    {
      "cell_type": "code",
      "source": [
        "#making sure everything is working\n",
        "\n",
        "print('Hello, this session is working')"
      ],
      "metadata": {
        "colab": {
          "base_uri": "https://localhost:8080/"
        },
        "id": "mNPHbGCR0GMj",
        "outputId": "94deb01f-6402-42b1-9ff6-ae33c6a54e30"
      },
      "execution_count": 3,
      "outputs": [
        {
          "output_type": "stream",
          "name": "stdout",
          "text": [
            "Hello, this session is working\n"
          ]
        }
      ]
    },
    {
      "cell_type": "code",
      "source": [
        "#Creating a dictionary. The dictionary includes names with their age. Name is the key, age is the pair\n",
        "family = {\n",
        "    'Phillip': 33,\n",
        "    'Valerie': 36,\n",
        "    'TJ': 38,\n",
        "    'Mom': 61,\n",
        "    'Dad': 66\n",
        "}\n",
        "\n",
        "print(family['Phillip'])"
      ],
      "metadata": {
        "colab": {
          "base_uri": "https://localhost:8080/"
        },
        "id": "MyDciB-50IYX",
        "outputId": "9739efbd-d0c5-4751-f76d-41beda7aeb92"
      },
      "execution_count": 4,
      "outputs": [
        {
          "output_type": "stream",
          "name": "stdout",
          "text": [
            "33\n"
          ]
        }
      ]
    },
    {
      "cell_type": "code",
      "source": [
        "# Creating python loop. Loop will run through the dictionary and print out the following values. It is important to use .items() to loop through dictionary\n",
        "for n,a in family.items():\n",
        "    print(f\"{n} is {a} years old\")"
      ],
      "metadata": {
        "colab": {
          "base_uri": "https://localhost:8080/"
        },
        "id": "PZ_Fg0T20UYA",
        "outputId": "cfcac9a3-ce80-478a-d0f0-ef2ee5063feb"
      },
      "execution_count": 5,
      "outputs": [
        {
          "output_type": "stream",
          "name": "stdout",
          "text": [
            "Phillip is 33 years old\n",
            "Valerie is 36 years old\n",
            "TJ is 38 years old\n",
            "Mom is 61 years old\n",
            "Dad is 66 years old\n"
          ]
        }
      ]
    },
    {
      "cell_type": "code",
      "source": [
        "#Printing the values from the dictionary\n",
        "print(family.values())"
      ],
      "metadata": {
        "colab": {
          "base_uri": "https://localhost:8080/"
        },
        "id": "AB7ZSLuk0aum",
        "outputId": "f5925e58-5d9d-4790-9f1f-27cc53d0facb"
      },
      "execution_count": 6,
      "outputs": [
        {
          "output_type": "stream",
          "name": "stdout",
          "text": [
            "dict_values([33, 36, 38, 61, 66])\n"
          ]
        }
      ]
    },
    {
      "cell_type": "code",
      "source": [
        "#printing the length of the dictionary\n",
        "print(len(family))"
      ],
      "metadata": {
        "colab": {
          "base_uri": "https://localhost:8080/"
        },
        "id": "i01KZ_ul0dc8",
        "outputId": "02a871ca-600b-43a6-db96-46b4d27b00fe"
      },
      "execution_count": 7,
      "outputs": [
        {
          "output_type": "stream",
          "name": "stdout",
          "text": [
            "5\n"
          ]
        }
      ]
    }
  ]
}