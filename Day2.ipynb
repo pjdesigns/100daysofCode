{
  "nbformat": 4,
  "nbformat_minor": 0,
  "metadata": {
    "colab": {
      "provenance": [],
      "authorship_tag": "ABX9TyO1WBEYn7/NlKfv1X4G6VjM",
      "include_colab_link": true
    },
    "kernelspec": {
      "name": "python3",
      "display_name": "Python 3"
    },
    "language_info": {
      "name": "python"
    }
  },
  "cells": [
    {
      "cell_type": "markdown",
      "metadata": {
        "id": "view-in-github",
        "colab_type": "text"
      },
      "source": [
        "<a href=\"https://colab.research.google.com/github/pjdesigns/100daysofCode/blob/main/Day2.ipynb\" target=\"_parent\"><img src=\"https://colab.research.google.com/assets/colab-badge.svg\" alt=\"Open In Colab\"/></a>"
      ]
    },
    {
      "cell_type": "markdown",
      "source": [
        "# Day 2 of 100 days of Code\n"
      ],
      "metadata": {
        "id": "EgCUYCmd9V01"
      }
    },
    {
      "cell_type": "code",
      "execution_count": 1,
      "metadata": {
        "id": "KX711Fbl9Fze"
      },
      "outputs": [],
      "source": [
        "# importing modules\n",
        "\n",
        "import numpy as np\n",
        "import pandas as pd\n",
        "import matplotlib.pyplot as plt"
      ]
    },
    {
      "cell_type": "code",
      "source": [
        "#Creating two lists\n",
        "\n",
        "year = [2020, 2021, 2022, 2023]\n",
        "money_spent = [2500, 3500, 4600, 56030]"
      ],
      "metadata": {
        "id": "NSWwKT8092II"
      },
      "execution_count": 9,
      "outputs": []
    },
    {
      "cell_type": "code",
      "source": [
        "#combined list into dictionary\n",
        "\n",
        "my_dict = {\n",
        "    \"year\": year,\n",
        "    \"Money spent\": money_spent\n",
        "}\n",
        "\n",
        "print(my_dict)"
      ],
      "metadata": {
        "colab": {
          "base_uri": "https://localhost:8080/"
        },
        "id": "PeomPVYv-tQl",
        "outputId": "6da4184f-7143-4b9b-ed55-0b678d227d1f"
      },
      "execution_count": 10,
      "outputs": [
        {
          "output_type": "stream",
          "name": "stdout",
          "text": [
            "{'year': [2020, 2021, 2022, 2023], 'Money spent': [2500, 3500, 4600, 56030]}\n"
          ]
        }
      ]
    },
    {
      "cell_type": "code",
      "source": [
        "df = pd.DataFrame(my_dict)\n",
        "\n"
      ],
      "metadata": {
        "id": "YBZrEX6C-9Zk"
      },
      "execution_count": 11,
      "outputs": []
    },
    {
      "cell_type": "code",
      "source": [
        "plt.plot(df['year'], df['Money spent'])\n",
        "plt.show()"
      ],
      "metadata": {
        "colab": {
          "base_uri": "https://localhost:8080/",
          "height": 265
        },
        "id": "GU4yErm7_exT",
        "outputId": "b9c3ac91-a271-4e05-da32-ff46a157b2df"
      },
      "execution_count": 13,
      "outputs": [
        {
          "output_type": "display_data",
          "data": {
            "text/plain": [
              "<Figure size 432x288 with 1 Axes>"
            ],
            "image/png": "[encoded data removed]"
          },
          "metadata": {
            "needs_background": "light"
          }
        }
      ]
    },
    {
      "cell_type": "code",
      "source": [],
      "metadata": {
        "id": "mSQ-jSk9_u3C"
      },
      "execution_count": null,
      "outputs": []
    }
  ]
}